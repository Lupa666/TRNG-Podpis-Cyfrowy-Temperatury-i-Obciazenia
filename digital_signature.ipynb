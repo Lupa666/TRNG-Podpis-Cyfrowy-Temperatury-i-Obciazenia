{
 "cells": [
  {
   "cell_type": "code",
   "execution_count": 68,
   "metadata": {},
   "outputs": [],
   "source": [
    "#Importowanie bibliotek\n",
    "\n",
    "#komendy do importu (windows):\n",
    "#pip install pycryptodomex --no-binary :all:\n",
    "#pip install pyspectator\n",
    "#pip install wmi\n",
    "\n",
    "#komendy do importu (linux):\n",
    "#pip install pycryptodomex\n",
    "#pip install pyspectator\n",
    "#pip install wmi (niepotrzebne)\n",
    "\n",
    "from pyspectator.computer import Cpu\n",
    "import wmi\n",
    "from Crypto.Hash import SHA1\n",
    "from Crypto.PublicKey import RSA\n",
    "from Crypto.Signature import pkcs1_15"
   ]
  },
  {
   "cell_type": "code",
   "execution_count": 69,
   "metadata": {},
   "outputs": [],
   "source": [
    "#Kod generujący liczbę losową\n",
    "#UWAGA: Na systemach windows należy mieć zainstalowany i uruchomiony Open Hardware Monitor - https://openhardwaremonitor.org/downloads/\n",
    "#W celu pobrania wartości temperatury. Na systemach linux można zakomentować linijkę temp = getWindowsTemp i odkomentować temp = int(CPU.temperature)\n",
    "\n",
    "_w_ = wmi.WMI(namespace=\"root/OpenHardwareMonitor\")\n",
    "\n",
    "def getWindowsTemp():\n",
    "    sensors = _w_.Sensor()\n",
    "    for sensor in sensors:\n",
    "        if sensor.SensorType==u'Temperature' and not 'GPU' in sensor.Name:\n",
    "            return int(sensor.Value)\n",
    "    return 0\n",
    "\n",
    "def myTRNG(SIZE = 1024):\n",
    "    SIZE = SIZE * 8\n",
    "    enable = True\n",
    "    actualBitStream = ''\n",
    "    while(enable):\n",
    "        CPU = Cpu(monitoring_latency=1)  \n",
    "        seed = int(CPU.load)\n",
    "        temp = getWindowsTemp()\n",
    "        actualSeed = ''\n",
    "        #temp = int(CPU.temperature)\n",
    "        for i in range(7):\n",
    "            seed = (13*int(seed)+3*temp)%256    \n",
    "            actualSeed += str(bin(seed))[2:]\n",
    "        if(len(actualBitStream) >= SIZE):\n",
    "            actualBitStream = actualBitStream[0:SIZE]\n",
    "            enable = False\n",
    "        else :\n",
    "            actualBitStream += actualSeed\n",
    "    return int(actualBitStream,2).to_bytes(((len(actualBitStream) + 7)) //8,'big')"
   ]
  },
  {
   "cell_type": "code",
   "execution_count": 70,
   "metadata": {},
   "outputs": [],
   "source": [
    "#Funkcja zwracająca jednocześnie publiczny i prywatny klucz za pomocą biblioteki\n",
    "def getPrivatePublicKey():\n",
    "    key = RSA.generate(1024, myTRNG) #przekazujemy do funkcji długość ciągu bajtowego oraz funkcję geneurjącą\n",
    "    private_key = key.export_key()\n",
    "    public_key = key.publickey().export_key()\n",
    "    return private_key, public_key"
   ]
  },
  {
   "cell_type": "code",
   "execution_count": 71,
   "metadata": {},
   "outputs": [],
   "source": [
    "#RSA\n",
    "#Generowanie prywatnego i publicznego klucza\n",
    "priv_key, pub_key = getPrivatePublicKey()"
   ]
  },
  {
   "cell_type": "code",
   "execution_count": 72,
   "metadata": {},
   "outputs": [],
   "source": [
    "#zapisanie kluczy do plików\n",
    "priv_key_file = open(\"priv_key.pem\", \"wb\")\n",
    "priv_key_file.write(priv_key)\n",
    "priv_key_file.close()\n",
    "\n",
    "pub_key_file = open(\"pub_key.pem\", \"wb\")\n",
    "pub_key_file.write(pub_key)\n",
    "pub_key_file.close()"
   ]
  },
  {
   "cell_type": "code",
   "execution_count": 73,
   "metadata": {},
   "outputs": [
    {
     "name": "stdout",
     "output_type": "stream",
     "text": [
      "Private RSA key at 0x289B18B7160\n",
      "Public RSA key at 0x289B18B7F70\n"
     ]
    }
   ],
   "source": [
    "#Wczytuje wartości publicznego i prywatnego klucza z pliku\n",
    "# Load the private key from the file\n",
    "with open('priv_key.pem', 'rb') as f:\n",
    "    to_use_priv_key = RSA.import_key(f.read())\n",
    "\n",
    "# Load the public key from the file\n",
    "with open('pub_key.pem', 'rb') as f:\n",
    "    to_use_pub_key = RSA.import_key(f.read())"
   ]
  },
  {
   "cell_type": "code",
   "execution_count": 76,
   "metadata": {},
   "outputs": [],
   "source": [
    "#wczytaj plik, utwórz jego hash i utwórz podpis. Zapisz podpis do pliku\n",
    "with open('toSign.txt', 'rb') as f:\n",
    "    to_sign = f.read()\n",
    "    \n",
    "hash_obj = SHA1.new(to_sign)\n",
    "# tworzy podpis za pomocą prywatnego klucza\n",
    "signature = pkcs1_15.new(to_use_priv_key).sign(hash_obj)\n",
    "\n",
    "signature_file = open(\"signature.sig\", \"wb\")\n",
    "signature_file.write(signature)\n",
    "signature_file.close()"
   ]
  },
  {
   "cell_type": "code",
   "execution_count": 77,
   "metadata": {},
   "outputs": [
    {
     "name": "stdout",
     "output_type": "stream",
     "text": [
      "Signature is valid.\n"
     ]
    }
   ],
   "source": [
    "#Sprawdź poprawność kluczy\n",
    "with open('toSign.txt', 'rb') as f:\n",
    "    to_sign = f.read()\n",
    "    \n",
    "hash_obj = SHA1.new(to_sign)\n",
    "with open('signature.sig', 'rb') as f:\n",
    "    signature = f.read()\n",
    "\n",
    "try:\n",
    "    pkcs1_15.new(to_use_pub_key).verify(hash_obj, signature)\n",
    "    print(\"Signature is valid.\")\n",
    "except (ValueError, TypeError):\n",
    "    print(\"Signature is not valid.\")"
   ]
  }
 ],
 "metadata": {
  "kernelspec": {
   "display_name": "base",
   "language": "python",
   "name": "python3"
  },
  "language_info": {
   "codemirror_mode": {
    "name": "ipython",
    "version": 3
   },
   "file_extension": ".py",
   "mimetype": "text/x-python",
   "name": "python",
   "nbconvert_exporter": "python",
   "pygments_lexer": "ipython3",
   "version": "3.9.5"
  },
  "orig_nbformat": 4
 },
 "nbformat": 4,
 "nbformat_minor": 2
}
